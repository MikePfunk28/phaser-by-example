{
 "cells": [
  {
   "cell_type": "markdown",
   "metadata": {},
   "source": [
    "| Name\t| Method  |\tPath |\n",
    "|---|---|---|\n",
    "| setWorkspace | post | /workspace/set |\n",
    "| handleWorkspaceCommand | post | /commands/workspace |\n",
    "| saveContext | post | /context/save |\n",
    "| getContext | get | /context/get |\n",
    "| updateFile | post | /context/update-file |\n",
    "| syncFile | post | /workspace/sync-file |\n",
    "| listWorkspaceFiles | get | /workspace/list-files |\n",
    "| analyzeWorkspace | post | /workspace/analyze |\n",
    "| context.json | CREATE | /context/context.json |\n"
   ]
  },
  {
   "cell_type": "markdown",
   "metadata": {},
   "source": [
    "**SAVE**\n",
    "curl -X POST https://localhost/context/save-file \\\n",
    "-H \"Content-Type: application/json\" \\\n",
    "-d '{\"filename\": \"example.txt\", \"content\": \"This is a test file.\"}'\n",
    "\n",
    "**INDEX**\n",
    "curl -X POST https://localhost/context/index-file \\\n",
    "-H \"Content-Type: application/json\" \\\n",
    "-d '{\"filename\": \"example.txt\"}'\n"
   ]
  }
 ],
 "metadata": {
  "kernelspec": {
   "display_name": "Python 3",
   "language": "python",
   "name": "python3"
  },
  "language_info": {
   "name": "python",
   "version": "3.12.6"
  }
 },
 "nbformat": 4,
 "nbformat_minor": 2
}
